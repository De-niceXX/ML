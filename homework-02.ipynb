{
 "cells": [
  {
   "cell_type": "markdown",
   "metadata": {},
   "source": [
    "# Домашная работа 2\n",
    "\n",
    "1. Скачайте этот ноутбук к себе.\n",
    "2. Заполните пропущенные ячейки, отвечая на заданные вопросы. Там должен быть код! (если не сказано обратное)\n",
    "3. Сохраните результат в своём гитхаб репозитории.\n",
    "4. Пришлите на почту *ml-teachers* ссылку на этот файл в вашем репозитории.\n",
    "5. В теме письма указать `ML Homework #2: Name Surname`. Если тема будет неправильная, то задание не будет проверено.\n",
    "\n",
    "**Дедлайн: 3.11.2017 6:00 OMSK**\n",
    "\n",
    "## Numpy\n",
    "\n",
    "#### Полезная литература\n",
    "\n",
    "- http://www.numpy.org/\n",
    "- https://jakevdp.github.io/PythonDataScienceHandbook/02.00-introduction-to-numpy.html\n",
    "- https://docs.scipy.org/doc/numpy-dev/user/quickstart.html"
   ]
  },
  {
   "cell_type": "markdown",
   "metadata": {},
   "source": [
    "1) Импортировать numpy и написать версию"
   ]
  },
  {
   "cell_type": "code",
   "execution_count": 1,
   "metadata": {},
   "outputs": [
    {
     "data": {
      "text/plain": [
       "'1.13.1'"
      ]
     },
     "execution_count": 1,
     "metadata": {},
     "output_type": "execute_result"
    }
   ],
   "source": [
    "import numpy as np\n",
    "np.__version__"
   ]
  },
  {
   "cell_type": "markdown",
   "metadata": {},
   "source": [
    "2) Создать нулевой вектор размера 10"
   ]
  },
  {
   "cell_type": "code",
   "execution_count": 2,
   "metadata": {},
   "outputs": [
    {
     "data": {
      "text/plain": [
       "array([[ 0.],\n",
       "       [ 0.],\n",
       "       [ 0.],\n",
       "       [ 0.],\n",
       "       [ 0.],\n",
       "       [ 0.],\n",
       "       [ 0.],\n",
       "       [ 0.],\n",
       "       [ 0.],\n",
       "       [ 0.]])"
      ]
     },
     "execution_count": 2,
     "metadata": {},
     "output_type": "execute_result"
    }
   ],
   "source": [
    "np.zeros((10, 1))"
   ]
  },
  {
   "cell_type": "markdown",
   "metadata": {},
   "source": [
    "3) Создать вектор заполненный 7-ами размера 7"
   ]
  },
  {
   "cell_type": "code",
   "execution_count": 3,
   "metadata": {},
   "outputs": [
    {
     "data": {
      "text/plain": [
       "array([[7],\n",
       "       [7],\n",
       "       [7],\n",
       "       [7],\n",
       "       [7],\n",
       "       [7],\n",
       "       [7]])"
      ]
     },
     "execution_count": 3,
     "metadata": {},
     "output_type": "execute_result"
    }
   ],
   "source": [
    "np.full((7,1), 7)"
   ]
  },
  {
   "cell_type": "markdown",
   "metadata": {},
   "source": [
    "4) Создать вектор заполненный четными числами от 10 до 100"
   ]
  },
  {
   "cell_type": "code",
   "execution_count": 4,
   "metadata": {},
   "outputs": [
    {
     "data": {
      "text/plain": [
       "array([[  10.],\n",
       "       [  12.],\n",
       "       [  14.],\n",
       "       [  16.],\n",
       "       [  18.],\n",
       "       [  20.],\n",
       "       [  22.],\n",
       "       [  24.],\n",
       "       [  26.],\n",
       "       [  28.],\n",
       "       [  30.],\n",
       "       [  32.],\n",
       "       [  34.],\n",
       "       [  36.],\n",
       "       [  38.],\n",
       "       [  40.],\n",
       "       [  42.],\n",
       "       [  44.],\n",
       "       [  46.],\n",
       "       [  48.],\n",
       "       [  50.],\n",
       "       [  52.],\n",
       "       [  54.],\n",
       "       [  56.],\n",
       "       [  58.],\n",
       "       [  60.],\n",
       "       [  62.],\n",
       "       [  64.],\n",
       "       [  66.],\n",
       "       [  68.],\n",
       "       [  70.],\n",
       "       [  72.],\n",
       "       [  74.],\n",
       "       [  76.],\n",
       "       [  78.],\n",
       "       [  80.],\n",
       "       [  82.],\n",
       "       [  84.],\n",
       "       [  86.],\n",
       "       [  88.],\n",
       "       [  90.],\n",
       "       [  92.],\n",
       "       [  94.],\n",
       "       [  96.],\n",
       "       [  98.],\n",
       "       [ 100.]])"
      ]
     },
     "execution_count": 4,
     "metadata": {},
     "output_type": "execute_result"
    }
   ],
   "source": [
    "vect = np.array(np.linspace(10,100,46))\n",
    "vect.reshape(vect.size,1)"
   ]
  },
  {
   "cell_type": "markdown",
   "metadata": {},
   "source": [
    "5) Создать массив случайных чисел и развернуть его задом наперёд"
   ]
  },
  {
   "cell_type": "code",
   "execution_count": 5,
   "metadata": {},
   "outputs": [
    {
     "name": "stdout",
     "output_type": "stream",
     "text": [
      "[ 0.0722899   0.75755988  0.12877827  0.1267466   0.77156702]\n",
      "[ 0.0722899   0.75755988  0.12877827  0.1267466   0.77156702]\n",
      "[ 0.77156702  0.1267466   0.12877827  0.1267466   0.77156702]\n"
     ]
    }
   ],
   "source": [
    "arr1 = np.random.random_sample(5)\n",
    "print(arr1)\n",
    "arr2 = arr1\n",
    "print(arr2)\n",
    "i = 0\n",
    "k = arr1.size - 1\n",
    "while 1:\n",
    "    arr2[i] = arr1[k]\n",
    "    i += 1;\n",
    "    k -= 1;\n",
    "    if (k == -1):\n",
    "        break;\n",
    "print(arr2)"
   ]
  },
  {
   "cell_type": "markdown",
   "metadata": {},
   "source": [
    "6) Создать двумерную матрицу размера 3 на 3, заполненную числами от 0 до 9"
   ]
  },
  {
   "cell_type": "code",
   "execution_count": 6,
   "metadata": {},
   "outputs": [
    {
     "data": {
      "text/plain": [
       "array([[0, 1, 2],\n",
       "       [3, 4, 5],\n",
       "       [6, 7, 8]])"
      ]
     },
     "execution_count": 6,
     "metadata": {},
     "output_type": "execute_result"
    }
   ],
   "source": [
    "np.arange(9).reshape((3,3))"
   ]
  },
  {
   "cell_type": "markdown",
   "metadata": {},
   "source": [
    "7) Создать матрицу размера 4 на 4 с единицами на диагонали смещеной на один наверх."
   ]
  },
  {
   "cell_type": "code",
   "execution_count": 7,
   "metadata": {},
   "outputs": [
    {
     "data": {
      "text/plain": [
       "array([[ 0.,  1.,  0.,  0.],\n",
       "       [ 0.,  0.,  1.,  0.],\n",
       "       [ 0.,  0.,  0.,  1.],\n",
       "       [ 0.,  0.,  0.,  0.]])"
      ]
     },
     "execution_count": 7,
     "metadata": {},
     "output_type": "execute_result"
    }
   ],
   "source": [
    "arr1 = np.eye(3)\n",
    "arr2 = np.zeros((3,1))\n",
    "arr3 = np.concatenate((arr2,arr1), axis=1)\n",
    "arr4 = np.zeros((1,4))\n",
    "np.concatenate((arr3,arr4))"
   ]
  },
  {
   "cell_type": "markdown",
   "metadata": {},
   "source": [
    "8) Создать матрицу с числами в диапазоне от 1 до 4 по диагонали. В других ячейках матрицы должны быть семерки."
   ]
  },
  {
   "cell_type": "code",
   "execution_count": 8,
   "metadata": {},
   "outputs": [
    {
     "data": {
      "text/plain": [
       "array([[1, 7, 7, 7],\n",
       "       [7, 2, 7, 7],\n",
       "       [7, 7, 3, 7],\n",
       "       [7, 7, 7, 4]])"
      ]
     },
     "execution_count": 8,
     "metadata": {},
     "output_type": "execute_result"
    }
   ],
   "source": [
    "arr1 = np.diag([-6,-5,-4,-3])\n",
    "arr2 = np.full((4,4), 7)\n",
    "arr1 + arr2"
   ]
  },
  {
   "cell_type": "markdown",
   "metadata": {},
   "source": [
    "9) Создать матрицу размера 5 на 5 заполненную чилами от 0 до 4 в строках."
   ]
  },
  {
   "cell_type": "code",
   "execution_count": 9,
   "metadata": {},
   "outputs": [
    {
     "name": "stdout",
     "output_type": "stream",
     "text": [
      "[[0 1 2 3 4]\n",
      " [0 1 2 3 4]\n",
      " [0 1 2 3 4]\n",
      " [0 1 2 3 4]\n",
      " [0 1 2 3 4]]\n"
     ]
    }
   ],
   "source": [
    "arr1 = np.arange(5)\n",
    "arr1 = arr1.reshape(1,5)\n",
    "arr2 = arr1\n",
    "for i in range(2):\n",
    "    arr2 = np.concatenate((arr2,arr2), axis=0)\n",
    "arr2 = np.concatenate((arr2,arr1), axis=0)\n",
    "print(arr2)"
   ]
  },
  {
   "cell_type": "markdown",
   "metadata": {},
   "source": [
    "10) Создать матрицу случайных чисел размера 10 на 10 и отнять среднее по строкам из каждого элемента строки"
   ]
  },
  {
   "cell_type": "code",
   "execution_count": 10,
   "metadata": {},
   "outputs": [
    {
     "name": "stdout",
     "output_type": "stream",
     "text": [
      "[[ 0.20832814 -0.0994083   0.01836704 -0.29950017 -0.17281919 -0.19443016\n",
      "   0.46071596  0.13228245  0.14732009 -0.20085587]\n",
      " [-0.0123934  -0.19133405 -0.14249599 -0.1473253  -0.06844252  0.2497715\n",
      "  -0.15295751  0.32945654 -0.03554872  0.17126945]\n",
      " [ 0.09247319 -0.41173124 -0.15599231  0.44058585 -0.39860822  0.40093911\n",
      "  -0.1398705  -0.39509186  0.32051847  0.24677752]\n",
      " [-0.01620151  0.25397311  0.08980288  0.06596614 -0.38963946  0.20564782\n",
      "   0.22451193  0.06268526 -0.35803863 -0.13870754]\n",
      " [ 0.38606803  0.20410939 -0.49071673  0.25453091  0.34129181 -0.09868031\n",
      "   0.23146919 -0.15222895 -0.44124098 -0.23460234]\n",
      " [ 0.20028473  0.20248192 -0.47436419  0.02970268 -0.09914977  0.11525445\n",
      "   0.06413538 -0.02149889  0.03537004 -0.05221636]\n",
      " [-0.27332217 -0.35467618  0.17692474 -0.36357648 -0.27353984 -0.15462325\n",
      "   0.30955428  0.42743283  0.46963866  0.03618742]\n",
      " [-0.27556744 -0.27915946  0.29000774 -0.39777652 -0.48763619  0.4693749\n",
      "   0.10417354 -0.07552688  0.41547922  0.23663109]\n",
      " [-0.00353841 -0.04966868 -0.07253475  0.45102689 -0.29556829  0.45614355\n",
      "  -0.18415876  0.06176179  0.01733331 -0.38079667]\n",
      " [ 0.21523912  0.10491769 -0.11413051 -0.29282972 -0.17473314 -0.20146824\n",
      "  -0.07061826  0.3849443  -0.20431263  0.35299138]]\n"
     ]
    }
   ],
   "source": [
    "arr1 = np.random.random_sample((10,10))\n",
    "arr1 = arr1 - arr1.mean(axis=1).reshape(10,1)\n",
    "print(arr1)"
   ]
  },
  {
   "cell_type": "markdown",
   "metadata": {},
   "source": [
    "12) Создать матрицу случайных чисел размера 10 на 10 и отнять медиану по столбцам из каждого элемента столбца"
   ]
  },
  {
   "cell_type": "code",
   "execution_count": 11,
   "metadata": {},
   "outputs": [
    {
     "name": "stdout",
     "output_type": "stream",
     "text": [
      "[[-0.19765046 -0.05424499 -0.15871529  0.1829953   0.51587804  0.31542071\n",
      "  -0.21754997 -0.05407139  0.34348292 -0.33215266]\n",
      " [ 0.56086863  0.05424499 -0.06848336 -0.11908399 -0.28544882  0.08572466\n",
      "  -0.07421663  0.49628479 -0.01092755 -0.30257401]\n",
      " [ 0.0512704  -0.21995097 -0.18984715  0.19993603  0.07895447 -0.04960762\n",
      "  -0.101484   -0.47177923 -0.32662946 -0.16874982]\n",
      " [-0.2296972   0.22720424  0.59500203  0.11908399 -0.08497332  0.20619094\n",
      "   0.05179721 -0.103603    0.26796964 -0.08074458]\n",
      " [-0.0512704  -0.2106108   0.65472076 -0.5659656  -0.08944659 -0.07759031\n",
      "   0.09995957 -0.25449493 -0.31623248  0.30249274]\n",
      " [ 0.14399357 -0.15095693  0.11501424  0.17628114  0.07868275 -0.12067175\n",
      "   0.14727347 -0.11628109  0.01092755  0.17083503]\n",
      " [-0.22825057 -0.34909687 -0.20946437 -0.47605782  0.41814172 -0.39412933\n",
      "  -0.09831899  0.1508766   0.60368675 -0.42158631]\n",
      " [ 0.20833936  0.15071842  0.06848336 -0.20768668 -0.07868275  0.04960762\n",
      "  -0.05179721  0.05407139  0.39349987  0.1529915 ]\n",
      " [ 0.19485688  0.42092615 -0.22450125 -0.56204081  0.10274782  0.25204191\n",
      "   0.17747731  0.36900948 -0.14905075  0.47428612]\n",
      " [-0.06701273  0.20928643  0.46777869  0.17242399 -0.11433428 -0.34715842\n",
      "   0.24082093  0.51242364 -0.14551982  0.08074458]]\n"
     ]
    }
   ],
   "source": [
    "arr1 = np.random.random_sample((10,10))\n",
    "arr1 = arr1 - np.median(arr1,axis=0).reshape(1,10)\n",
    "print(arr1)"
   ]
  },
  {
   "cell_type": "markdown",
   "metadata": {},
   "source": [
    "13) Создать матрицу случайных чисел 5x5. Добавить к ней столбцы максимумов и минимумов по строкам. Получится матрица 5x7."
   ]
  },
  {
   "cell_type": "code",
   "execution_count": 12,
   "metadata": {},
   "outputs": [
    {
     "name": "stdout",
     "output_type": "stream",
     "text": [
      "[[  5.40963965e-01   5.29935368e-01   9.51772548e-01   8.43772146e-01\n",
      "    1.22133060e-01   9.51772548e-01   1.22133060e-01]\n",
      " [  4.72469753e-01   2.65232370e-01   6.99527488e-01   9.47958742e-01\n",
      "    1.02251876e-01   9.47958742e-01   1.02251876e-01]\n",
      " [  2.32280189e-01   4.44546058e-01   3.11830472e-01   4.11887591e-04\n",
      "    5.04156925e-01   5.04156925e-01   4.11887591e-04]\n",
      " [  8.85211289e-01   9.49458722e-01   7.92513997e-01   2.83824280e-01\n",
      "    1.09166097e-01   9.49458722e-01   1.09166097e-01]\n",
      " [  8.25621482e-02   4.25880126e-02   6.37224400e-01   3.02112453e-04\n",
      "    3.46097673e-01   6.37224400e-01   3.02112453e-04]]\n"
     ]
    }
   ],
   "source": [
    "arr1 = np.random.random_sample((5,5))\n",
    "arrMax = np.max(arr1, axis=1).reshape(5,1)\n",
    "arrMin = np.min(arr1, axis=1).reshape(5,1)\n",
    "arr1 = np.concatenate((arr1,arrMax), axis=1)\n",
    "arr1 = np.concatenate((arr1,arrMin), axis=1)\n",
    "print(arr1)"
   ]
  },
  {
   "cell_type": "markdown",
   "metadata": {},
   "source": [
    "14) Вектор чисел от 1 до 51 преобразовать в вектор нечетных чисел и в вектор четных чисел, поменять их размерности, чтобы получились две матрицы. Найти произведение этих матриц. Найти обратную матрицу этого произведения."
   ]
  },
  {
   "cell_type": "code",
   "execution_count": 13,
   "metadata": {},
   "outputs": [
    {
     "name": "stdout",
     "output_type": "stream",
     "text": [
      "[[   2   12   30   56   90]\n",
      " [ 132  182  240  306  380]\n",
      " [ 462  552  650  756  870]\n",
      " [ 992 1122 1260 1406 1560]\n",
      " [1722 1892 2070 2256 2450]]\n"
     ]
    }
   ],
   "source": [
    "vect = np.arange(1,51)\n",
    "vect = vect.reshape(50, 1)\n",
    "vectN = vect[::2]\n",
    "vectN = vectN.reshape(5,5)\n",
    "vectC = vect[1::2]\n",
    "vectC = vectC.reshape(5,5)\n",
    "res = vectC * vectN\n",
    "print(res)"
   ]
  },
  {
   "cell_type": "markdown",
   "metadata": {},
   "source": [
    "15) Создать 8x8 матрицу и заполнить её в шахматном порядке нулями и единицами."
   ]
  },
  {
   "cell_type": "code",
   "execution_count": 14,
   "metadata": {},
   "outputs": [
    {
     "name": "stdout",
     "output_type": "stream",
     "text": [
      "[[0 1 0 1 0 1 0 1]\n",
      " [1 0 1 0 1 0 1 0]\n",
      " [0 1 0 1 0 1 0 1]\n",
      " [1 0 1 0 1 0 1 0]\n",
      " [0 1 0 1 0 1 0 1]\n",
      " [1 0 1 0 1 0 1 0]\n",
      " [0 1 0 1 0 1 0 1]\n",
      " [1 0 1 0 1 0 1 0]]\n"
     ]
    }
   ],
   "source": [
    "arr1 = np.arange(49)\n",
    "arr1 = arr1 % 2\n",
    "arr2 = arr1.reshape(7,7)\n",
    "arr3 = arr1[1:8]\n",
    "arr3 = arr3.reshape(1,7)\n",
    "arr4 = arr1[1:9]\n",
    "arr4 = arr4.reshape(8,1)\n",
    "arr5 = np.concatenate((arr2,arr3), axis=0)\n",
    "arr6 = np.concatenate((arr5,arr4), axis=1)\n",
    "print(arr6)"
   ]
  },
  {
   "cell_type": "markdown",
   "metadata": {},
   "source": [
    "## Pandas\n",
    "\n",
    "#### Полезная литература\n",
    "\n",
    "- http://pandas.pydata.org/pandas-docs/stable/10min.html\n",
    "- https://pandas.pydata.org/pandas-docs/stable/indexing.html\n",
    "- https://pandas.pydata.org/pandas-docs/stable/missing_data.html"
   ]
  },
  {
   "cell_type": "markdown",
   "metadata": {},
   "source": [
    "В этом задании мы с вами рассмотрим датасет [Adult Data Set](https://archive.ics.uci.edu/ml/datasets/Adult).\n",
    "Основывается он на данных переписи населения 1994 года в США.\n",
    "\n",
    "Расшифровка содержимого колонок:\n",
    "\n",
    "- age: continuous. \n",
    "- workclass: Private, Self-emp-not-inc, Self-emp-inc, Federal-gov, Local-gov, State-gov, Without-pay, Never-worked. \n",
    "- fnlwgt: continuous. sampling weight, more here: SIPP Weighting.\n",
    "- education: Bachelors, Some-college, 11th, HS-grad, Prof-school, Assoc-acdm, Assoc-voc, 9th, 7th-8th, 12th, Masters, 1st-4th, 10th, Doctorate, 5th-6th, Preschool. \n",
    "- education-num: continuous. \n",
    "- marital-status: Married-civ-spouse, Divorced, Never-married, Separated, Widowed, Married-spouse-absent, Married-AF-spouse. \n",
    "- occupation: Tech-support, Craft-repair, Other-service, Sales, Exec-managerial, Prof-specialty, Handlers-cleaners, Machine-op-inspct, Adm-clerical, Farming-fishing, Transport-moving, Priv-house-serv, Protective-serv, Armed-Forces. \n",
    "- relationship: Wife, Own-child, Husband, Not-in-family, Other-relative, Unmarried. \n",
    "- race: White, Asian-Pac-Islander, Amer-Indian-Eskimo, Other, Black. \n",
    "- sex: Female, Male. \n",
    "- capital-gain: continuous. Income from investment sources, apart from wages/salary.\n",
    "- capital-loss: continuous. Losses from investment sources, apart from wages/salary.\n",
    "- hours-per-week: continuous. \n",
    "- native-country: United-States, Cambodia, England, Puerto-Rico, Canada, Germany, Outlying-US(Guam-USVI-etc), India, Japan, Greece, South, China, Cuba, Iran, Honduras, Philippines, Italy, Poland, Jamaica, Vietnam, Mexico, Portugal, Ireland, France, Dominican-Republic, Laos, Ecuador, Taiwan, Haiti, Columbia, Hungary, Guatemala, Nicaragua, Scotland, Thailand, Yugoslavia, El-Salvador, Trinadad&Tobago, Peru, Hong, Holand-Netherlands."
   ]
  },
  {
   "cell_type": "code",
   "execution_count": 15,
   "metadata": {},
   "outputs": [
    {
     "data": {
      "text/plain": [
       "'0.20.3'"
      ]
     },
     "execution_count": 15,
     "metadata": {},
     "output_type": "execute_result"
    }
   ],
   "source": [
    "%matplotlib inline\n",
    "import pandas as pd\n",
    "pd.__version__"
   ]
  },
  {
   "cell_type": "code",
   "execution_count": 49,
   "metadata": {},
   "outputs": [
    {
     "data": {
      "text/html": [
       "<div>\n",
       "<style>\n",
       "    .dataframe thead tr:only-child th {\n",
       "        text-align: right;\n",
       "    }\n",
       "\n",
       "    .dataframe thead th {\n",
       "        text-align: left;\n",
       "    }\n",
       "\n",
       "    .dataframe tbody tr th {\n",
       "        vertical-align: top;\n",
       "    }\n",
       "</style>\n",
       "<table border=\"1\" class=\"dataframe\">\n",
       "  <thead>\n",
       "    <tr style=\"text-align: right;\">\n",
       "      <th></th>\n",
       "      <th>age</th>\n",
       "      <th>workclass</th>\n",
       "      <th>fnlwgt</th>\n",
       "      <th>education</th>\n",
       "      <th>education.num</th>\n",
       "      <th>marital.status</th>\n",
       "      <th>occupation</th>\n",
       "      <th>relationship</th>\n",
       "      <th>race</th>\n",
       "      <th>sex</th>\n",
       "      <th>capital.gain</th>\n",
       "      <th>capital.loss</th>\n",
       "      <th>hours.per.week</th>\n",
       "      <th>native.country</th>\n",
       "      <th>income</th>\n",
       "    </tr>\n",
       "  </thead>\n",
       "  <tbody>\n",
       "    <tr>\n",
       "      <th>0</th>\n",
       "      <td>90</td>\n",
       "      <td>NaN</td>\n",
       "      <td>77053</td>\n",
       "      <td>HS-grad</td>\n",
       "      <td>9</td>\n",
       "      <td>Widowed</td>\n",
       "      <td>NaN</td>\n",
       "      <td>Not-in-family</td>\n",
       "      <td>White</td>\n",
       "      <td>Female</td>\n",
       "      <td>0</td>\n",
       "      <td>4356</td>\n",
       "      <td>40</td>\n",
       "      <td>United-States</td>\n",
       "      <td>&lt;=50K</td>\n",
       "    </tr>\n",
       "    <tr>\n",
       "      <th>1</th>\n",
       "      <td>82</td>\n",
       "      <td>Private</td>\n",
       "      <td>132870</td>\n",
       "      <td>HS-grad</td>\n",
       "      <td>9</td>\n",
       "      <td>Widowed</td>\n",
       "      <td>Exec-managerial</td>\n",
       "      <td>Not-in-family</td>\n",
       "      <td>White</td>\n",
       "      <td>Female</td>\n",
       "      <td>0</td>\n",
       "      <td>4356</td>\n",
       "      <td>18</td>\n",
       "      <td>United-States</td>\n",
       "      <td>&lt;=50K</td>\n",
       "    </tr>\n",
       "    <tr>\n",
       "      <th>2</th>\n",
       "      <td>66</td>\n",
       "      <td>NaN</td>\n",
       "      <td>186061</td>\n",
       "      <td>Some-college</td>\n",
       "      <td>10</td>\n",
       "      <td>Widowed</td>\n",
       "      <td>NaN</td>\n",
       "      <td>Unmarried</td>\n",
       "      <td>Black</td>\n",
       "      <td>Female</td>\n",
       "      <td>0</td>\n",
       "      <td>4356</td>\n",
       "      <td>40</td>\n",
       "      <td>United-States</td>\n",
       "      <td>&lt;=50K</td>\n",
       "    </tr>\n",
       "    <tr>\n",
       "      <th>3</th>\n",
       "      <td>54</td>\n",
       "      <td>Private</td>\n",
       "      <td>140359</td>\n",
       "      <td>7th-8th</td>\n",
       "      <td>4</td>\n",
       "      <td>Divorced</td>\n",
       "      <td>Machine-op-inspct</td>\n",
       "      <td>Unmarried</td>\n",
       "      <td>White</td>\n",
       "      <td>Female</td>\n",
       "      <td>0</td>\n",
       "      <td>3900</td>\n",
       "      <td>40</td>\n",
       "      <td>United-States</td>\n",
       "      <td>&lt;=50K</td>\n",
       "    </tr>\n",
       "    <tr>\n",
       "      <th>4</th>\n",
       "      <td>41</td>\n",
       "      <td>Private</td>\n",
       "      <td>264663</td>\n",
       "      <td>Some-college</td>\n",
       "      <td>10</td>\n",
       "      <td>Separated</td>\n",
       "      <td>Prof-specialty</td>\n",
       "      <td>Own-child</td>\n",
       "      <td>White</td>\n",
       "      <td>Female</td>\n",
       "      <td>0</td>\n",
       "      <td>3900</td>\n",
       "      <td>40</td>\n",
       "      <td>United-States</td>\n",
       "      <td>&lt;=50K</td>\n",
       "    </tr>\n",
       "    <tr>\n",
       "      <th>5</th>\n",
       "      <td>34</td>\n",
       "      <td>Private</td>\n",
       "      <td>216864</td>\n",
       "      <td>HS-grad</td>\n",
       "      <td>9</td>\n",
       "      <td>Divorced</td>\n",
       "      <td>Other-service</td>\n",
       "      <td>Unmarried</td>\n",
       "      <td>White</td>\n",
       "      <td>Female</td>\n",
       "      <td>0</td>\n",
       "      <td>3770</td>\n",
       "      <td>45</td>\n",
       "      <td>United-States</td>\n",
       "      <td>&lt;=50K</td>\n",
       "    </tr>\n",
       "    <tr>\n",
       "      <th>6</th>\n",
       "      <td>38</td>\n",
       "      <td>Private</td>\n",
       "      <td>150601</td>\n",
       "      <td>10th</td>\n",
       "      <td>6</td>\n",
       "      <td>Separated</td>\n",
       "      <td>Adm-clerical</td>\n",
       "      <td>Unmarried</td>\n",
       "      <td>White</td>\n",
       "      <td>Male</td>\n",
       "      <td>0</td>\n",
       "      <td>3770</td>\n",
       "      <td>40</td>\n",
       "      <td>United-States</td>\n",
       "      <td>&lt;=50K</td>\n",
       "    </tr>\n",
       "    <tr>\n",
       "      <th>7</th>\n",
       "      <td>74</td>\n",
       "      <td>State-gov</td>\n",
       "      <td>88638</td>\n",
       "      <td>Doctorate</td>\n",
       "      <td>16</td>\n",
       "      <td>Never-married</td>\n",
       "      <td>Prof-specialty</td>\n",
       "      <td>Other-relative</td>\n",
       "      <td>White</td>\n",
       "      <td>Female</td>\n",
       "      <td>0</td>\n",
       "      <td>3683</td>\n",
       "      <td>20</td>\n",
       "      <td>United-States</td>\n",
       "      <td>&gt;50K</td>\n",
       "    </tr>\n",
       "    <tr>\n",
       "      <th>8</th>\n",
       "      <td>68</td>\n",
       "      <td>Federal-gov</td>\n",
       "      <td>422013</td>\n",
       "      <td>HS-grad</td>\n",
       "      <td>9</td>\n",
       "      <td>Divorced</td>\n",
       "      <td>Prof-specialty</td>\n",
       "      <td>Not-in-family</td>\n",
       "      <td>White</td>\n",
       "      <td>Female</td>\n",
       "      <td>0</td>\n",
       "      <td>3683</td>\n",
       "      <td>40</td>\n",
       "      <td>United-States</td>\n",
       "      <td>&lt;=50K</td>\n",
       "    </tr>\n",
       "    <tr>\n",
       "      <th>9</th>\n",
       "      <td>41</td>\n",
       "      <td>Private</td>\n",
       "      <td>70037</td>\n",
       "      <td>Some-college</td>\n",
       "      <td>10</td>\n",
       "      <td>Never-married</td>\n",
       "      <td>Craft-repair</td>\n",
       "      <td>Unmarried</td>\n",
       "      <td>White</td>\n",
       "      <td>Male</td>\n",
       "      <td>0</td>\n",
       "      <td>3004</td>\n",
       "      <td>60</td>\n",
       "      <td>NaN</td>\n",
       "      <td>&gt;50K</td>\n",
       "    </tr>\n",
       "    <tr>\n",
       "      <th>10</th>\n",
       "      <td>45</td>\n",
       "      <td>Private</td>\n",
       "      <td>172274</td>\n",
       "      <td>Doctorate</td>\n",
       "      <td>16</td>\n",
       "      <td>Divorced</td>\n",
       "      <td>Prof-specialty</td>\n",
       "      <td>Unmarried</td>\n",
       "      <td>Black</td>\n",
       "      <td>Female</td>\n",
       "      <td>0</td>\n",
       "      <td>3004</td>\n",
       "      <td>35</td>\n",
       "      <td>United-States</td>\n",
       "      <td>&gt;50K</td>\n",
       "    </tr>\n",
       "    <tr>\n",
       "      <th>11</th>\n",
       "      <td>38</td>\n",
       "      <td>Self-emp-not-inc</td>\n",
       "      <td>164526</td>\n",
       "      <td>Prof-school</td>\n",
       "      <td>15</td>\n",
       "      <td>Never-married</td>\n",
       "      <td>Prof-specialty</td>\n",
       "      <td>Not-in-family</td>\n",
       "      <td>White</td>\n",
       "      <td>Male</td>\n",
       "      <td>0</td>\n",
       "      <td>2824</td>\n",
       "      <td>45</td>\n",
       "      <td>United-States</td>\n",
       "      <td>&gt;50K</td>\n",
       "    </tr>\n",
       "    <tr>\n",
       "      <th>12</th>\n",
       "      <td>52</td>\n",
       "      <td>Private</td>\n",
       "      <td>129177</td>\n",
       "      <td>Bachelors</td>\n",
       "      <td>13</td>\n",
       "      <td>Widowed</td>\n",
       "      <td>Other-service</td>\n",
       "      <td>Not-in-family</td>\n",
       "      <td>White</td>\n",
       "      <td>Female</td>\n",
       "      <td>0</td>\n",
       "      <td>2824</td>\n",
       "      <td>20</td>\n",
       "      <td>United-States</td>\n",
       "      <td>&gt;50K</td>\n",
       "    </tr>\n",
       "  </tbody>\n",
       "</table>\n",
       "</div>"
      ],
      "text/plain": [
       "    age         workclass  fnlwgt     education  education.num marital.status  \\\n",
       "0    90               NaN   77053       HS-grad              9        Widowed   \n",
       "1    82           Private  132870       HS-grad              9        Widowed   \n",
       "2    66               NaN  186061  Some-college             10        Widowed   \n",
       "3    54           Private  140359       7th-8th              4       Divorced   \n",
       "4    41           Private  264663  Some-college             10      Separated   \n",
       "5    34           Private  216864       HS-grad              9       Divorced   \n",
       "6    38           Private  150601          10th              6      Separated   \n",
       "7    74         State-gov   88638     Doctorate             16  Never-married   \n",
       "8    68       Federal-gov  422013       HS-grad              9       Divorced   \n",
       "9    41           Private   70037  Some-college             10  Never-married   \n",
       "10   45           Private  172274     Doctorate             16       Divorced   \n",
       "11   38  Self-emp-not-inc  164526   Prof-school             15  Never-married   \n",
       "12   52           Private  129177     Bachelors             13        Widowed   \n",
       "\n",
       "           occupation    relationship   race     sex  capital.gain  \\\n",
       "0                 NaN   Not-in-family  White  Female             0   \n",
       "1     Exec-managerial   Not-in-family  White  Female             0   \n",
       "2                 NaN       Unmarried  Black  Female             0   \n",
       "3   Machine-op-inspct       Unmarried  White  Female             0   \n",
       "4      Prof-specialty       Own-child  White  Female             0   \n",
       "5       Other-service       Unmarried  White  Female             0   \n",
       "6        Adm-clerical       Unmarried  White    Male             0   \n",
       "7      Prof-specialty  Other-relative  White  Female             0   \n",
       "8      Prof-specialty   Not-in-family  White  Female             0   \n",
       "9        Craft-repair       Unmarried  White    Male             0   \n",
       "10     Prof-specialty       Unmarried  Black  Female             0   \n",
       "11     Prof-specialty   Not-in-family  White    Male             0   \n",
       "12      Other-service   Not-in-family  White  Female             0   \n",
       "\n",
       "    capital.loss  hours.per.week native.country income  \n",
       "0           4356              40  United-States  <=50K  \n",
       "1           4356              18  United-States  <=50K  \n",
       "2           4356              40  United-States  <=50K  \n",
       "3           3900              40  United-States  <=50K  \n",
       "4           3900              40  United-States  <=50K  \n",
       "5           3770              45  United-States  <=50K  \n",
       "6           3770              40  United-States  <=50K  \n",
       "7           3683              20  United-States   >50K  \n",
       "8           3683              40  United-States  <=50K  \n",
       "9           3004              60            NaN   >50K  \n",
       "10          3004              35  United-States   >50K  \n",
       "11          2824              45  United-States   >50K  \n",
       "12          2824              20  United-States   >50K  "
      ]
     },
     "execution_count": 49,
     "metadata": {},
     "output_type": "execute_result"
    }
   ],
   "source": [
    "df = pd.read_csv('./data/adult.csv.gz', compression='gzip', na_values='?')\n",
    "df.head()"
   ]
  },
  {
   "cell_type": "markdown",
   "metadata": {},
   "source": [
    "1) Выведите последние 10 элеметнов датасета"
   ]
  },
  {
   "cell_type": "code",
   "execution_count": 54,
   "metadata": {},
   "outputs": [
    {
     "data": {
      "text/html": [
       "<div>\n",
       "<style>\n",
       "    .dataframe thead tr:only-child th {\n",
       "        text-align: right;\n",
       "    }\n",
       "\n",
       "    .dataframe thead th {\n",
       "        text-align: left;\n",
       "    }\n",
       "\n",
       "    .dataframe tbody tr th {\n",
       "        vertical-align: top;\n",
       "    }\n",
       "</style>\n",
       "<table border=\"1\" class=\"dataframe\">\n",
       "  <thead>\n",
       "    <tr style=\"text-align: right;\">\n",
       "      <th></th>\n",
       "      <th>age</th>\n",
       "      <th>workclass</th>\n",
       "      <th>fnlwgt</th>\n",
       "      <th>education</th>\n",
       "      <th>education.num</th>\n",
       "      <th>marital.status</th>\n",
       "      <th>occupation</th>\n",
       "      <th>relationship</th>\n",
       "      <th>race</th>\n",
       "      <th>sex</th>\n",
       "      <th>capital.gain</th>\n",
       "      <th>capital.loss</th>\n",
       "      <th>hours.per.week</th>\n",
       "      <th>native.country</th>\n",
       "      <th>income</th>\n",
       "    </tr>\n",
       "  </thead>\n",
       "  <tbody>\n",
       "    <tr>\n",
       "      <th>32560</th>\n",
       "      <td>22</td>\n",
       "      <td>Private</td>\n",
       "      <td>201490</td>\n",
       "      <td>HS-grad</td>\n",
       "      <td>9</td>\n",
       "      <td>Never-married</td>\n",
       "      <td>Adm-clerical</td>\n",
       "      <td>Own-child</td>\n",
       "      <td>White</td>\n",
       "      <td>Male</td>\n",
       "      <td>0</td>\n",
       "      <td>0</td>\n",
       "      <td>20</td>\n",
       "      <td>United-States</td>\n",
       "      <td>&lt;=50K</td>\n",
       "    </tr>\n",
       "    <tr>\n",
       "      <th>32559</th>\n",
       "      <td>58</td>\n",
       "      <td>Private</td>\n",
       "      <td>151910</td>\n",
       "      <td>HS-grad</td>\n",
       "      <td>9</td>\n",
       "      <td>Widowed</td>\n",
       "      <td>Adm-clerical</td>\n",
       "      <td>Unmarried</td>\n",
       "      <td>White</td>\n",
       "      <td>Female</td>\n",
       "      <td>0</td>\n",
       "      <td>0</td>\n",
       "      <td>40</td>\n",
       "      <td>United-States</td>\n",
       "      <td>&lt;=50K</td>\n",
       "    </tr>\n",
       "    <tr>\n",
       "      <th>32558</th>\n",
       "      <td>40</td>\n",
       "      <td>Private</td>\n",
       "      <td>154374</td>\n",
       "      <td>HS-grad</td>\n",
       "      <td>9</td>\n",
       "      <td>Married-civ-spouse</td>\n",
       "      <td>Machine-op-inspct</td>\n",
       "      <td>Husband</td>\n",
       "      <td>White</td>\n",
       "      <td>Male</td>\n",
       "      <td>0</td>\n",
       "      <td>0</td>\n",
       "      <td>40</td>\n",
       "      <td>United-States</td>\n",
       "      <td>&gt;50K</td>\n",
       "    </tr>\n",
       "    <tr>\n",
       "      <th>32557</th>\n",
       "      <td>27</td>\n",
       "      <td>Private</td>\n",
       "      <td>257302</td>\n",
       "      <td>Assoc-acdm</td>\n",
       "      <td>12</td>\n",
       "      <td>Married-civ-spouse</td>\n",
       "      <td>Tech-support</td>\n",
       "      <td>Wife</td>\n",
       "      <td>White</td>\n",
       "      <td>Female</td>\n",
       "      <td>0</td>\n",
       "      <td>0</td>\n",
       "      <td>38</td>\n",
       "      <td>United-States</td>\n",
       "      <td>&lt;=50K</td>\n",
       "    </tr>\n",
       "    <tr>\n",
       "      <th>32556</th>\n",
       "      <td>22</td>\n",
       "      <td>Private</td>\n",
       "      <td>310152</td>\n",
       "      <td>Some-college</td>\n",
       "      <td>10</td>\n",
       "      <td>Never-married</td>\n",
       "      <td>Protective-serv</td>\n",
       "      <td>Not-in-family</td>\n",
       "      <td>White</td>\n",
       "      <td>Male</td>\n",
       "      <td>0</td>\n",
       "      <td>0</td>\n",
       "      <td>40</td>\n",
       "      <td>United-States</td>\n",
       "      <td>&lt;=50K</td>\n",
       "    </tr>\n",
       "    <tr>\n",
       "      <th>32555</th>\n",
       "      <td>53</td>\n",
       "      <td>Private</td>\n",
       "      <td>321865</td>\n",
       "      <td>Masters</td>\n",
       "      <td>14</td>\n",
       "      <td>Married-civ-spouse</td>\n",
       "      <td>Exec-managerial</td>\n",
       "      <td>Husband</td>\n",
       "      <td>White</td>\n",
       "      <td>Male</td>\n",
       "      <td>0</td>\n",
       "      <td>0</td>\n",
       "      <td>40</td>\n",
       "      <td>United-States</td>\n",
       "      <td>&gt;50K</td>\n",
       "    </tr>\n",
       "    <tr>\n",
       "      <th>32554</th>\n",
       "      <td>32</td>\n",
       "      <td>Private</td>\n",
       "      <td>116138</td>\n",
       "      <td>Masters</td>\n",
       "      <td>14</td>\n",
       "      <td>Never-married</td>\n",
       "      <td>Tech-support</td>\n",
       "      <td>Not-in-family</td>\n",
       "      <td>Asian-Pac-Islander</td>\n",
       "      <td>Male</td>\n",
       "      <td>0</td>\n",
       "      <td>0</td>\n",
       "      <td>11</td>\n",
       "      <td>Taiwan</td>\n",
       "      <td>&lt;=50K</td>\n",
       "    </tr>\n",
       "    <tr>\n",
       "      <th>32553</th>\n",
       "      <td>43</td>\n",
       "      <td>Private</td>\n",
       "      <td>84661</td>\n",
       "      <td>Assoc-voc</td>\n",
       "      <td>11</td>\n",
       "      <td>Married-civ-spouse</td>\n",
       "      <td>Sales</td>\n",
       "      <td>Husband</td>\n",
       "      <td>White</td>\n",
       "      <td>Male</td>\n",
       "      <td>0</td>\n",
       "      <td>0</td>\n",
       "      <td>45</td>\n",
       "      <td>United-States</td>\n",
       "      <td>&lt;=50K</td>\n",
       "    </tr>\n",
       "    <tr>\n",
       "      <th>32552</th>\n",
       "      <td>32</td>\n",
       "      <td>Private</td>\n",
       "      <td>34066</td>\n",
       "      <td>10th</td>\n",
       "      <td>6</td>\n",
       "      <td>Married-civ-spouse</td>\n",
       "      <td>Handlers-cleaners</td>\n",
       "      <td>Husband</td>\n",
       "      <td>Amer-Indian-Eskimo</td>\n",
       "      <td>Male</td>\n",
       "      <td>0</td>\n",
       "      <td>0</td>\n",
       "      <td>40</td>\n",
       "      <td>United-States</td>\n",
       "      <td>&lt;=50K</td>\n",
       "    </tr>\n",
       "    <tr>\n",
       "      <th>32551</th>\n",
       "      <td>43</td>\n",
       "      <td>Self-emp-not-inc</td>\n",
       "      <td>27242</td>\n",
       "      <td>Some-college</td>\n",
       "      <td>10</td>\n",
       "      <td>Married-civ-spouse</td>\n",
       "      <td>Craft-repair</td>\n",
       "      <td>Husband</td>\n",
       "      <td>White</td>\n",
       "      <td>Male</td>\n",
       "      <td>0</td>\n",
       "      <td>0</td>\n",
       "      <td>50</td>\n",
       "      <td>United-States</td>\n",
       "      <td>&lt;=50K</td>\n",
       "    </tr>\n",
       "  </tbody>\n",
       "</table>\n",
       "</div>"
      ],
      "text/plain": [
       "       age         workclass  fnlwgt     education  education.num  \\\n",
       "32560   22           Private  201490       HS-grad              9   \n",
       "32559   58           Private  151910       HS-grad              9   \n",
       "32558   40           Private  154374       HS-grad              9   \n",
       "32557   27           Private  257302    Assoc-acdm             12   \n",
       "32556   22           Private  310152  Some-college             10   \n",
       "32555   53           Private  321865       Masters             14   \n",
       "32554   32           Private  116138       Masters             14   \n",
       "32553   43           Private   84661     Assoc-voc             11   \n",
       "32552   32           Private   34066          10th              6   \n",
       "32551   43  Self-emp-not-inc   27242  Some-college             10   \n",
       "\n",
       "           marital.status         occupation   relationship  \\\n",
       "32560       Never-married       Adm-clerical      Own-child   \n",
       "32559             Widowed       Adm-clerical      Unmarried   \n",
       "32558  Married-civ-spouse  Machine-op-inspct        Husband   \n",
       "32557  Married-civ-spouse       Tech-support           Wife   \n",
       "32556       Never-married    Protective-serv  Not-in-family   \n",
       "32555  Married-civ-spouse    Exec-managerial        Husband   \n",
       "32554       Never-married       Tech-support  Not-in-family   \n",
       "32553  Married-civ-spouse              Sales        Husband   \n",
       "32552  Married-civ-spouse  Handlers-cleaners        Husband   \n",
       "32551  Married-civ-spouse       Craft-repair        Husband   \n",
       "\n",
       "                     race     sex  capital.gain  capital.loss  hours.per.week  \\\n",
       "32560               White    Male             0             0              20   \n",
       "32559               White  Female             0             0              40   \n",
       "32558               White    Male             0             0              40   \n",
       "32557               White  Female             0             0              38   \n",
       "32556               White    Male             0             0              40   \n",
       "32555               White    Male             0             0              40   \n",
       "32554  Asian-Pac-Islander    Male             0             0              11   \n",
       "32553               White    Male             0             0              45   \n",
       "32552  Amer-Indian-Eskimo    Male             0             0              40   \n",
       "32551               White    Male             0             0              50   \n",
       "\n",
       "      native.country income  \n",
       "32560  United-States  <=50K  \n",
       "32559  United-States  <=50K  \n",
       "32558  United-States   >50K  \n",
       "32557  United-States  <=50K  \n",
       "32556  United-States  <=50K  \n",
       "32555  United-States   >50K  \n",
       "32554         Taiwan  <=50K  \n",
       "32553  United-States  <=50K  \n",
       "32552  United-States  <=50K  \n",
       "32551  United-States  <=50K  "
      ]
     },
     "execution_count": 54,
     "metadata": {},
     "output_type": "execute_result"
    }
   ],
   "source": [
    "df1 = df.sort_index(axis=0, level=None, ascending=False, inplace=False, kind='quicksort', na_position='last', sort_remaining=True, by=None)\n",
    "df1.head(10)"
   ]
  },
  {
   "cell_type": "markdown",
   "metadata": {},
   "source": [
    "2) Сколько колонок и сколько строк в этом датасете?"
   ]
  },
  {
   "cell_type": "code",
   "execution_count": 18,
   "metadata": {},
   "outputs": [
    {
     "data": {
      "text/plain": [
       "(32561, 15)"
      ]
     },
     "execution_count": 18,
     "metadata": {},
     "output_type": "execute_result"
    }
   ],
   "source": [
    "df.shape"
   ]
  },
  {
   "cell_type": "markdown",
   "metadata": {},
   "source": [
    "3) Какие типы данных у элементов этого датасета?"
   ]
  },
  {
   "cell_type": "code",
   "execution_count": 19,
   "metadata": {},
   "outputs": [
    {
     "name": "stdout",
     "output_type": "stream",
     "text": [
      "<class 'pandas.core.frame.DataFrame'>\n",
      "RangeIndex: 32561 entries, 0 to 32560\n",
      "Data columns (total 15 columns):\n",
      "age               32561 non-null int64\n",
      "workclass         30725 non-null object\n",
      "fnlwgt            32561 non-null int64\n",
      "education         32561 non-null object\n",
      "education.num     32561 non-null int64\n",
      "marital.status    32561 non-null object\n",
      "occupation        30718 non-null object\n",
      "relationship      32561 non-null object\n",
      "race              32561 non-null object\n",
      "sex               32561 non-null object\n",
      "capital.gain      32561 non-null int64\n",
      "capital.loss      32561 non-null int64\n",
      "hours.per.week    32561 non-null int64\n",
      "native.country    31978 non-null object\n",
      "income            32561 non-null object\n",
      "dtypes: int64(6), object(9)\n",
      "memory usage: 3.7+ MB\n"
     ]
    }
   ],
   "source": [
    "df.info()"
   ]
  },
  {
   "cell_type": "markdown",
   "metadata": {},
   "source": [
    "4) Какие признаки имеют пропуски?"
   ]
  },
  {
   "cell_type": "code",
   "execution_count": 20,
   "metadata": {},
   "outputs": [
    {
     "data": {
      "text/html": [
       "<div>\n",
       "<style>\n",
       "    .dataframe thead tr:only-child th {\n",
       "        text-align: right;\n",
       "    }\n",
       "\n",
       "    .dataframe thead th {\n",
       "        text-align: left;\n",
       "    }\n",
       "\n",
       "    .dataframe tbody tr th {\n",
       "        vertical-align: top;\n",
       "    }\n",
       "</style>\n",
       "<table border=\"1\" class=\"dataframe\">\n",
       "  <thead>\n",
       "    <tr style=\"text-align: right;\">\n",
       "      <th></th>\n",
       "      <th>age</th>\n",
       "      <th>workclass</th>\n",
       "      <th>fnlwgt</th>\n",
       "      <th>education</th>\n",
       "      <th>education.num</th>\n",
       "      <th>marital.status</th>\n",
       "      <th>occupation</th>\n",
       "      <th>relationship</th>\n",
       "      <th>race</th>\n",
       "      <th>sex</th>\n",
       "      <th>capital.gain</th>\n",
       "      <th>capital.loss</th>\n",
       "      <th>hours.per.week</th>\n",
       "      <th>native.country</th>\n",
       "      <th>income</th>\n",
       "    </tr>\n",
       "  </thead>\n",
       "  <tbody>\n",
       "    <tr>\n",
       "      <th>count</th>\n",
       "      <td>32561.000000</td>\n",
       "      <td>30725</td>\n",
       "      <td>3.256100e+04</td>\n",
       "      <td>32561</td>\n",
       "      <td>32561.000000</td>\n",
       "      <td>32561</td>\n",
       "      <td>30718</td>\n",
       "      <td>32561</td>\n",
       "      <td>32561</td>\n",
       "      <td>32561</td>\n",
       "      <td>32561.000000</td>\n",
       "      <td>32561.000000</td>\n",
       "      <td>32561.000000</td>\n",
       "      <td>31978</td>\n",
       "      <td>32561</td>\n",
       "    </tr>\n",
       "    <tr>\n",
       "      <th>unique</th>\n",
       "      <td>NaN</td>\n",
       "      <td>8</td>\n",
       "      <td>NaN</td>\n",
       "      <td>16</td>\n",
       "      <td>NaN</td>\n",
       "      <td>7</td>\n",
       "      <td>14</td>\n",
       "      <td>6</td>\n",
       "      <td>5</td>\n",
       "      <td>2</td>\n",
       "      <td>NaN</td>\n",
       "      <td>NaN</td>\n",
       "      <td>NaN</td>\n",
       "      <td>41</td>\n",
       "      <td>2</td>\n",
       "    </tr>\n",
       "    <tr>\n",
       "      <th>top</th>\n",
       "      <td>NaN</td>\n",
       "      <td>Private</td>\n",
       "      <td>NaN</td>\n",
       "      <td>HS-grad</td>\n",
       "      <td>NaN</td>\n",
       "      <td>Married-civ-spouse</td>\n",
       "      <td>Prof-specialty</td>\n",
       "      <td>Husband</td>\n",
       "      <td>White</td>\n",
       "      <td>Male</td>\n",
       "      <td>NaN</td>\n",
       "      <td>NaN</td>\n",
       "      <td>NaN</td>\n",
       "      <td>United-States</td>\n",
       "      <td>&lt;=50K</td>\n",
       "    </tr>\n",
       "    <tr>\n",
       "      <th>freq</th>\n",
       "      <td>NaN</td>\n",
       "      <td>22696</td>\n",
       "      <td>NaN</td>\n",
       "      <td>10501</td>\n",
       "      <td>NaN</td>\n",
       "      <td>14976</td>\n",
       "      <td>4140</td>\n",
       "      <td>13193</td>\n",
       "      <td>27816</td>\n",
       "      <td>21790</td>\n",
       "      <td>NaN</td>\n",
       "      <td>NaN</td>\n",
       "      <td>NaN</td>\n",
       "      <td>29170</td>\n",
       "      <td>24720</td>\n",
       "    </tr>\n",
       "    <tr>\n",
       "      <th>mean</th>\n",
       "      <td>38.581647</td>\n",
       "      <td>NaN</td>\n",
       "      <td>1.897784e+05</td>\n",
       "      <td>NaN</td>\n",
       "      <td>10.080679</td>\n",
       "      <td>NaN</td>\n",
       "      <td>NaN</td>\n",
       "      <td>NaN</td>\n",
       "      <td>NaN</td>\n",
       "      <td>NaN</td>\n",
       "      <td>1077.648844</td>\n",
       "      <td>87.303830</td>\n",
       "      <td>40.437456</td>\n",
       "      <td>NaN</td>\n",
       "      <td>NaN</td>\n",
       "    </tr>\n",
       "    <tr>\n",
       "      <th>std</th>\n",
       "      <td>13.640433</td>\n",
       "      <td>NaN</td>\n",
       "      <td>1.055500e+05</td>\n",
       "      <td>NaN</td>\n",
       "      <td>2.572720</td>\n",
       "      <td>NaN</td>\n",
       "      <td>NaN</td>\n",
       "      <td>NaN</td>\n",
       "      <td>NaN</td>\n",
       "      <td>NaN</td>\n",
       "      <td>7385.292085</td>\n",
       "      <td>402.960219</td>\n",
       "      <td>12.347429</td>\n",
       "      <td>NaN</td>\n",
       "      <td>NaN</td>\n",
       "    </tr>\n",
       "    <tr>\n",
       "      <th>min</th>\n",
       "      <td>17.000000</td>\n",
       "      <td>NaN</td>\n",
       "      <td>1.228500e+04</td>\n",
       "      <td>NaN</td>\n",
       "      <td>1.000000</td>\n",
       "      <td>NaN</td>\n",
       "      <td>NaN</td>\n",
       "      <td>NaN</td>\n",
       "      <td>NaN</td>\n",
       "      <td>NaN</td>\n",
       "      <td>0.000000</td>\n",
       "      <td>0.000000</td>\n",
       "      <td>1.000000</td>\n",
       "      <td>NaN</td>\n",
       "      <td>NaN</td>\n",
       "    </tr>\n",
       "    <tr>\n",
       "      <th>25%</th>\n",
       "      <td>28.000000</td>\n",
       "      <td>NaN</td>\n",
       "      <td>1.178270e+05</td>\n",
       "      <td>NaN</td>\n",
       "      <td>9.000000</td>\n",
       "      <td>NaN</td>\n",
       "      <td>NaN</td>\n",
       "      <td>NaN</td>\n",
       "      <td>NaN</td>\n",
       "      <td>NaN</td>\n",
       "      <td>0.000000</td>\n",
       "      <td>0.000000</td>\n",
       "      <td>40.000000</td>\n",
       "      <td>NaN</td>\n",
       "      <td>NaN</td>\n",
       "    </tr>\n",
       "    <tr>\n",
       "      <th>50%</th>\n",
       "      <td>37.000000</td>\n",
       "      <td>NaN</td>\n",
       "      <td>1.783560e+05</td>\n",
       "      <td>NaN</td>\n",
       "      <td>10.000000</td>\n",
       "      <td>NaN</td>\n",
       "      <td>NaN</td>\n",
       "      <td>NaN</td>\n",
       "      <td>NaN</td>\n",
       "      <td>NaN</td>\n",
       "      <td>0.000000</td>\n",
       "      <td>0.000000</td>\n",
       "      <td>40.000000</td>\n",
       "      <td>NaN</td>\n",
       "      <td>NaN</td>\n",
       "    </tr>\n",
       "    <tr>\n",
       "      <th>75%</th>\n",
       "      <td>48.000000</td>\n",
       "      <td>NaN</td>\n",
       "      <td>2.370510e+05</td>\n",
       "      <td>NaN</td>\n",
       "      <td>12.000000</td>\n",
       "      <td>NaN</td>\n",
       "      <td>NaN</td>\n",
       "      <td>NaN</td>\n",
       "      <td>NaN</td>\n",
       "      <td>NaN</td>\n",
       "      <td>0.000000</td>\n",
       "      <td>0.000000</td>\n",
       "      <td>45.000000</td>\n",
       "      <td>NaN</td>\n",
       "      <td>NaN</td>\n",
       "    </tr>\n",
       "    <tr>\n",
       "      <th>max</th>\n",
       "      <td>90.000000</td>\n",
       "      <td>NaN</td>\n",
       "      <td>1.484705e+06</td>\n",
       "      <td>NaN</td>\n",
       "      <td>16.000000</td>\n",
       "      <td>NaN</td>\n",
       "      <td>NaN</td>\n",
       "      <td>NaN</td>\n",
       "      <td>NaN</td>\n",
       "      <td>NaN</td>\n",
       "      <td>99999.000000</td>\n",
       "      <td>4356.000000</td>\n",
       "      <td>99.000000</td>\n",
       "      <td>NaN</td>\n",
       "      <td>NaN</td>\n",
       "    </tr>\n",
       "  </tbody>\n",
       "</table>\n",
       "</div>"
      ],
      "text/plain": [
       "                 age workclass        fnlwgt education  education.num  \\\n",
       "count   32561.000000     30725  3.256100e+04     32561   32561.000000   \n",
       "unique           NaN         8           NaN        16            NaN   \n",
       "top              NaN   Private           NaN   HS-grad            NaN   \n",
       "freq             NaN     22696           NaN     10501            NaN   \n",
       "mean       38.581647       NaN  1.897784e+05       NaN      10.080679   \n",
       "std        13.640433       NaN  1.055500e+05       NaN       2.572720   \n",
       "min        17.000000       NaN  1.228500e+04       NaN       1.000000   \n",
       "25%        28.000000       NaN  1.178270e+05       NaN       9.000000   \n",
       "50%        37.000000       NaN  1.783560e+05       NaN      10.000000   \n",
       "75%        48.000000       NaN  2.370510e+05       NaN      12.000000   \n",
       "max        90.000000       NaN  1.484705e+06       NaN      16.000000   \n",
       "\n",
       "            marital.status      occupation relationship   race    sex  \\\n",
       "count                32561           30718        32561  32561  32561   \n",
       "unique                   7              14            6      5      2   \n",
       "top     Married-civ-spouse  Prof-specialty      Husband  White   Male   \n",
       "freq                 14976            4140        13193  27816  21790   \n",
       "mean                   NaN             NaN          NaN    NaN    NaN   \n",
       "std                    NaN             NaN          NaN    NaN    NaN   \n",
       "min                    NaN             NaN          NaN    NaN    NaN   \n",
       "25%                    NaN             NaN          NaN    NaN    NaN   \n",
       "50%                    NaN             NaN          NaN    NaN    NaN   \n",
       "75%                    NaN             NaN          NaN    NaN    NaN   \n",
       "max                    NaN             NaN          NaN    NaN    NaN   \n",
       "\n",
       "        capital.gain  capital.loss  hours.per.week native.country income  \n",
       "count   32561.000000  32561.000000    32561.000000          31978  32561  \n",
       "unique           NaN           NaN             NaN             41      2  \n",
       "top              NaN           NaN             NaN  United-States  <=50K  \n",
       "freq             NaN           NaN             NaN          29170  24720  \n",
       "mean     1077.648844     87.303830       40.437456            NaN    NaN  \n",
       "std      7385.292085    402.960219       12.347429            NaN    NaN  \n",
       "min         0.000000      0.000000        1.000000            NaN    NaN  \n",
       "25%         0.000000      0.000000       40.000000            NaN    NaN  \n",
       "50%         0.000000      0.000000       40.000000            NaN    NaN  \n",
       "75%         0.000000      0.000000       45.000000            NaN    NaN  \n",
       "max     99999.000000   4356.000000       99.000000            NaN    NaN  "
      ]
     },
     "execution_count": 20,
     "metadata": {},
     "output_type": "execute_result"
    }
   ],
   "source": [
    "df.describe(percentiles=None, include='all', exclude=None)"
   ]
  },
  {
   "cell_type": "markdown",
   "metadata": {},
   "source": [
    "5) Как вы думаете, с чем связаны пропуски этих значение. Напишите развернутый ответ в ячейке ниже."
   ]
  },
  {
   "cell_type": "markdown",
   "metadata": {},
   "source": [
    "**ответ: **"
   ]
  },
  {
   "cell_type": "markdown",
   "metadata": {},
   "source": [
    "6) Какие и сколько различных рабочих классов `workclass` представлено в выборке?"
   ]
  },
  {
   "cell_type": "code",
   "execution_count": 21,
   "metadata": {},
   "outputs": [
    {
     "data": {
      "text/plain": [
       "[NaN, Private, NaN, Private, Private, ..., Private, Private, Private, Private, Private]\n",
       "Length: 32561\n",
       "Categories (8, object): [Federal-gov, Local-gov, Never-worked, Private, Self-emp-inc, Self-emp-not-inc, State-gov, Without-pay]"
      ]
     },
     "execution_count": 21,
     "metadata": {},
     "output_type": "execute_result"
    }
   ],
   "source": [
    "df.workclass.astype('category').values"
   ]
  },
  {
   "cell_type": "markdown",
   "metadata": {},
   "source": [
    "7) Какой средний возраст женщин и мужчин?"
   ]
  },
  {
   "cell_type": "code",
   "execution_count": 22,
   "metadata": {},
   "outputs": [
    {
     "name": "stdout",
     "output_type": "stream",
     "text": [
      "Female avg age: 36.85823043357163\n",
      "Male avg age: 39.43354749885268\n"
     ]
    }
   ],
   "source": [
    "print(\"Female avg age: {}\\nMale avg age: {}\".format(\n",
    "    df[df['sex'] == 'Female']['age'].mean(),\n",
    "    df[df['sex'] == 'Male']['age'].mean()\n",
    "))"
   ]
  },
  {
   "cell_type": "markdown",
   "metadata": {},
   "source": [
    "8) Постройте гистограмму(bar) распределения образования людей (education)"
   ]
  },
  {
   "cell_type": "code",
   "execution_count": null,
   "metadata": {},
   "outputs": [],
   "source": []
  },
  {
   "cell_type": "markdown",
   "metadata": {},
   "source": [
    "9) Каковы средние значения и среднеквадратичные отклонения возраста тех, кто получает более 50K в год (признак income) и тех, кто получает менее 50K в год?"
   ]
  },
  {
   "cell_type": "code",
   "execution_count": 30,
   "metadata": {},
   "outputs": [
    {
     "name": "stdout",
     "output_type": "stream",
     "text": [
      "36.78373786407767\n",
      "44.24984058155847\n",
      "14.020088490824829\n",
      "10.519027719851769\n"
     ]
    }
   ],
   "source": [
    "df1 = df.groupby(by='income')\n",
    "dfL = df1.get_group('<=50K')\n",
    "print(dfL['age'].mean())\n",
    "dfM = df1.get_group('>50K')\n",
    "print(dfM['age'].mean())\n",
    "print(dfL['age'].std())\n",
    "print(dfM['age'].std())"
   ]
  },
  {
   "cell_type": "markdown",
   "metadata": {},
   "source": [
    "10) Правда ли, что люди, которые получают больше 50k, имеют как минимум высшее образование? (признак education - Bachelors, Prof-school, Assoc-acdm, Assoc-voc, Masters или Doctorate)"
   ]
  },
  {
   "cell_type": "code",
   "execution_count": 85,
   "metadata": {},
   "outputs": [
    {
     "name": "stdout",
     "output_type": "stream",
     "text": [
      "False\n"
     ]
    }
   ],
   "source": [
    "i = 0\n",
    "for val in dfM['education']:\n",
    "    if (val != 'Bachelors'):\n",
    "        if (val != 'Prof-school'):\n",
    "            if (val != 'Assoc-acdm'):\n",
    "                if (val != 'Assoc-voc'):\n",
    "                    if (val != 'Masters'):\n",
    "                        if (val != 'Doctorate'):\n",
    "                            i = 1;\n",
    "if (i == 1):\n",
    "    print('False')"
   ]
  },
  {
   "cell_type": "markdown",
   "metadata": {},
   "source": [
    "11) Среди кого больше доля зарабатывающих много (>50K): среди женатых или холостых мужчин (признак marital-status)? Женатыми считаем тех, у кого marital-status начинается с Married (Married-civ-spouse, Married-spouse-absent или Married-AF-spouse), остальных считаем холостыми."
   ]
  },
  {
   "cell_type": "code",
   "execution_count": 105,
   "metadata": {},
   "outputs": [
    {
     "name": "stdout",
     "output_type": "stream",
     "text": [
      "Married\n"
     ]
    }
   ],
   "source": [
    "dfMale = dfM.groupby(by='sex')\n",
    "dfMale = dfMale.get_group('Male')\n",
    "mar = 0;\n",
    "notMar = 0;\n",
    "for val in dfMale['marital.status']:\n",
    "    if (val != 'Married-civ-spouse'):\n",
    "        if (val != 'Married-spouse-absent'):\n",
    "            if (val != 'Married-AF-spouse'):\n",
    "                notMar += 1;\n",
    "            else:\n",
    "                mar += 1;\n",
    "        else:\n",
    "            mar += 1;\n",
    "    else:\n",
    "        mar += 1;\n",
    "if (mar > notMar):\n",
    "    print('Married')\n",
    "else:\n",
    "    print('Not married')"
   ]
  },
  {
   "cell_type": "markdown",
   "metadata": {},
   "source": [
    "12) Посчитайте среднее время работы (hours-per-week) зарабатывающих мало и много (salary) для каждой страны (native-country)."
   ]
  },
  {
   "cell_type": "code",
   "execution_count": null,
   "metadata": {
    "collapsed": true
   },
   "outputs": [],
   "source": []
  },
  {
   "cell_type": "markdown",
   "metadata": {},
   "source": [
    "13) Постройте сводную таблицу для сравнения уровня образования и разницы между capital.gain и capital.loss (то есть пассивный доход). Сделайте так, чтобы `capital.gain - capital.loss` создали не больше 10 разных уникальных значений."
   ]
  },
  {
   "cell_type": "code",
   "execution_count": null,
   "metadata": {
    "collapsed": true
   },
   "outputs": [],
   "source": []
  },
  {
   "cell_type": "markdown",
   "metadata": {},
   "source": [
    "14) Женщины из каких стран получают в среднем большую зарплату (>50K) чаще."
   ]
  },
  {
   "cell_type": "code",
   "execution_count": null,
   "metadata": {
    "collapsed": true
   },
   "outputs": [],
   "source": []
  },
  {
   "cell_type": "markdown",
   "metadata": {},
   "source": [
    "15) Создайте случайную колонку - `magic_salary`, которую нужно будет вычислить следующим образом: если зарплата небольшая (<50K), тогда случайно выберите число из диапазона [0,50]. Если зарплата выше 50K тогда из диапазона [51, 200]. Посчитайте среднюю зарплату в час для групп людей с одни уровнем образования на основе нашей случайной колонки `magic_salary`"
   ]
  },
  {
   "cell_type": "code",
   "execution_count": null,
   "metadata": {
    "collapsed": true
   },
   "outputs": [],
   "source": []
  }
 ],
 "metadata": {
  "kernelspec": {
   "display_name": "Python 3",
   "language": "python",
   "name": "python3"
  },
  "language_info": {
   "codemirror_mode": {
    "name": "ipython",
    "version": 3
   },
   "file_extension": ".py",
   "mimetype": "text/x-python",
   "name": "python",
   "nbconvert_exporter": "python",
   "pygments_lexer": "ipython3",
   "version": "3.6.2"
  }
 },
 "nbformat": 4,
 "nbformat_minor": 2
}
